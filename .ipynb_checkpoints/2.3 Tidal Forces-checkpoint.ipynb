{
 "cells": [
  {
   "cell_type": "code",
   "execution_count": 9,
   "id": "58af20c8",
   "metadata": {},
   "outputs": [
    {
     "data": {
      "text/latex": [
       "tidal acceleration = 1.10e-06 $\\mathrm{m/s^2}$ = 1.12e-07 g"
      ],
      "text/plain": [
       "<IPython.core.display.Latex object>"
      ]
     },
     "execution_count": 9,
     "metadata": {},
     "output_type": "execute_result"
    }
   ],
   "source": [
    "from scipy.constants import g, G\n",
    "from astropy.constants import R_earth, M_earth\n",
    "from IPython.display import Latex\n",
    "M_moon = 0.07346e24\n",
    "r = 3.844e8\n",
    "\n",
    "coeff  = G*M_moon/r**3\n",
    "accel_scale = 2 * coeff * R_earth.value\n",
    "Latex(f\"tidal acceleration = {accel_scale:.2e} $\\mathrm{{m/s^2}}$ = {accel_scale/g:.2e} g\")"
   ]
  },
  {
   "cell_type": "code",
   "execution_count": 11,
   "id": "559d5bd3",
   "metadata": {},
   "outputs": [
    {
     "data": {
      "text/latex": [
       "size of tidal bulge = 0.67 $\\mathrm{m}$"
      ],
      "text/plain": [
       "<IPython.core.display.Latex object>"
      ]
     },
     "execution_count": 11,
     "metadata": {},
     "output_type": "execute_result"
    }
   ],
   "source": [
    "h = 15 * M_moon * R_earth.value ** 4 / ( 8 * M_earth.value * r **3)\n",
    "Latex(f\"size of tidal bulge = {h:.2f} $\\mathrm{{m}}$\")"
   ]
  },
  {
   "cell_type": "markdown",
   "id": "b0f36a43",
   "metadata": {},
   "source": [
    "$h=\\dfrac{3MR_{\\text{E}}^4}{4M_{\\text{E}}r^3}\\zeta $, where $\\zeta\\approx 5/2 $\n",
    "\n",
    "[公式来源](https://www.sciencedirect.com/science/article/abs/pii/0019103566900510?via%3Dihub)"
   ]
  },
  {
   "cell_type": "code",
   "execution_count": 17,
   "id": "97a3e312",
   "metadata": {},
   "outputs": [],
   "source": [
    "X = np.linspace(-1.1, 1.1, 23, endpoint=True)\n",
    "Y = np.linspace(-1.1, 1.1, 23, endpoint=True)\n",
    "R_x, R_y = np.meshgrid(R_earth.value * X, R_earth.value*Y)\n",
    "R = np.sqrt(R_x **2 + R_y **2)\n",
    "accel_x = np.ma.masked_where(R> R_earth.value, 2 * coeff * R_x)\n",
    "accel_y = np.ma.masked_where(R> R_earth.value, - coeff * R_y)"
   ]
  },
  {
   "cell_type": "code",
   "execution_count": null,
   "id": "31333055",
   "metadata": {},
   "outputs": [],
   "source": [
    "from matplotlib.patches import Circle\n",
    "plt.figure()\n",
    "fig, ax = plt.subplots(figsize=(6, 6))\n",
    "ax.set_aspect('equal')\n",
    "\n",
    "arrows = ax.quiver(X,  Y, accel_x, accel_y, color='blue')\n",
    "ax.quiverkey(arrows, X=.1, Y=.95, U=accel_scale,\n",
    "            label=r\"$1.1\\times 10^{-6}\\;\\mathrm{m/s^2}$\",\n",
    "            labelpos='E')\n",
    "circle = Circle((0, 0), 1, alpha=.2, ec='none')\n",
    "ax.add_patch(circle)\n",
    "ax.set_xlabel(r\"$x/R_{\\mathrm{E}}$\", fontsize=12)\n",
    "ax.set_ylabel(r\"$y/R_{\\mathrm{E}}$\", fontsize=12);\n",
    "plt.gcf()"
   ]
  },
  {
   "cell_type": "code",
   "execution_count": null,
   "id": "f4329d1f",
   "metadata": {},
   "outputs": [],
   "source": []
  }
 ],
 "metadata": {
  "kernelspec": {
   "display_name": "Python 3 (ipykernel)",
   "language": "python",
   "name": "python3"
  },
  "language_info": {
   "codemirror_mode": {
    "name": "ipython",
    "version": 3
   },
   "file_extension": ".py",
   "mimetype": "text/x-python",
   "name": "python",
   "nbconvert_exporter": "python",
   "pygments_lexer": "ipython3",
   "version": "3.9.7"
  }
 },
 "nbformat": 4,
 "nbformat_minor": 5
}
